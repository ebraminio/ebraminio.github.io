{
 "cells": [
  {
   "cell_type": "markdown",
   "metadata": {},
   "source": [
    "<img src=\"fig1.png\" style=\"width: 300px;\">\n",
    "\n",
    "$M = \\begin{bmatrix}0.5 & 0.2 & 0.3\\\\0.2 & 0.7 & 0.1\\\\0.75 & 0.15 & 0.1\\end{bmatrix}$\n",
    "\n",
    "\n",
    "## فرمول کلی\n",
    "\n",
    "$s M = s$\n",
    "\n",
    "*حالت بعدی برابر با ضرب حالت اولی با ماتریس احتمال‌های جابجایی است*\n"
   ]
  },
  {
   "cell_type": "markdown",
   "metadata": {
    "slideshow": {
     "slide_type": "slide"
    }
   },
   "source": [
    "\n",
    "\\begin{equation*} s' = s M \\\\ s^2 = (s M) M \\\\ \\text{ } \\\\ \\text{ } \\\\ \\text{or: } \\\\ s^n = s M^2 \\\\\n",
    "\\dots \\\\ \\text{______________} \\\\ s^n = s M^n \\\\ \\end{equation*}"
   ]
  },
  {
   "cell_type": "markdown",
   "metadata": {},
   "source": [
    "## آیا می‌توانیم حالت نهایی (حالت تعادل) را به شیوه‌ای با محاسبات کمتر حساب کنیم؟"
   ]
  },
  {
   "cell_type": "markdown",
   "metadata": {
    "slideshow": {
     "slide_type": "slide"
    }
   },
   "source": [
    "# Eigenvalue decomposition:"
   ]
  },
  {
   "cell_type": "markdown",
   "metadata": {},
   "source": [
    "\\begin{equation*} M = V \\Lambda V^{-1} \\end{equation*}"
   ]
  },
  {
   "cell_type": "markdown",
   "metadata": {
    "slideshow": {
     "slide_type": "-"
    }
   },
   "source": [
    "## سایر decompositionها:\n",
    "i/j/..., fourier, wavelet, SVD, ..."
   ]
  },
  {
   "cell_type": "markdown",
   "metadata": {
    "slideshow": {
     "slide_type": "slide"
    }
   },
   "source": [
    "# Eigenvalue decomposition:"
   ]
  },
  {
   "cell_type": "markdown",
   "metadata": {},
   "source": [
    "\\begin{equation*}\n",
    "lim_{n\\to\\infty}M^n = (V \\Lambda V^{-1}) * (V \\Lambda V^{-1}) \\\\ \\dots \\\\ \\dots \\\\ = V \\Lambda^n V^{-1} \\end{equation*}"
   ]
  },
  {
   "cell_type": "markdown",
   "metadata": {
    "slideshow": {
     "slide_type": "slide"
    }
   },
   "source": [
    "## ماتریس تصادفی / Stochastic Matrix"
   ]
  },
  {
   "cell_type": "code",
   "execution_count": 39,
   "metadata": {},
   "outputs": [
    {
     "data": {
      "text/plain": [
       "matrix([[ 0.1,  0.2,  0.7],\n",
       "        [ 0.4,  0.3,  0.3],\n",
       "        [ 0.5,  0.1,  0.4]])"
      ]
     },
     "execution_count": 39,
     "metadata": {},
     "output_type": "execute_result"
    }
   ],
   "source": [
    "import numpy as np\n",
    "M = np.mat([[0.1, 0.2, 0.7], [0.4, 0.3, 0.3], [0.5, 0.1, 0.4]])\n",
    "M."
   ]
  },
  {
   "cell_type": "markdown",
   "metadata": {
    "slideshow": {
     "slide_type": "-"
    }
   },
   "source": [
    "**خاصیت: جمع هر سطر یک است**"
   ]
  },
  {
   "cell_type": "markdown",
   "metadata": {
    "slideshow": {
     "slide_type": "slide"
    }
   },
   "source": [
    "## تابع eig\n",
    "** V: Eigen vectors **\n",
    "\n",
    "** D: Eigen values چیده شده در ماتریس قطری **\n",
    "\n",
    "***که در ماتریس تصادفی حتماً یکی از آیگن‌ها ۱ خواهد بود ***"
   ]
  },
  {
   "cell_type": "code",
   "execution_count": 41,
   "metadata": {},
   "outputs": [
    {
     "data": {
      "text/plain": [
       "(array([[ 1.        ,  0.        ,  0.        ],\n",
       "        [ 0.        , -0.38284271,  0.        ],\n",
       "        [ 0.        ,  0.        ,  0.18284271]]),\n",
       " matrix([[-0.57735027, -0.82720305,  0.06909714],\n",
       "         [-0.57735027,  0.26745662, -0.95703598],\n",
       "         [-0.57735027,  0.49416806,  0.28161627]]))"
      ]
     },
     "execution_count": 41,
     "metadata": {},
     "output_type": "execute_result"
    }
   ],
   "source": [
    "D, V = np.linalg.eig(M)\n",
    "D = np.diag(D)\n",
    "D, V"
   ]
  },
  {
   "cell_type": "code",
   "execution_count": 55,
   "metadata": {},
   "outputs": [
    {
     "data": {
      "text/plain": [
       "matrix([[ 0.1,  0.2,  0.7],\n",
       "        [ 0.4,  0.3,  0.3],\n",
       "        [ 0.5,  0.1,  0.4]])"
      ]
     },
     "execution_count": 55,
     "metadata": {},
     "output_type": "execute_result"
    }
   ],
   "source": [
    "V * D * (V ** -1) # or V * D / V"
   ]
  },
  {
   "cell_type": "markdown",
   "metadata": {
    "slideshow": {
     "slide_type": "subslide"
    }
   },
   "source": [
    "**نکته جالب پردازشی برای ماتریس تصادفی: فقط یکی باقی خواهد ماند بقیه به صفر متمایل می‌شوند**"
   ]
  },
  {
   "cell_type": "code",
   "execution_count": 45,
   "metadata": {
    "slideshow": {
     "slide_type": "-"
    }
   },
   "outputs": [
    {
     "data": {
      "text/plain": [
       "array([[  1.00000000e+00,   0.00000000e+00,   0.00000000e+00],\n",
       "       [  0.00000000e+00,   2.00464954e-42,   0.00000000e+00],\n",
       "       [  0.00000000e+00,   0.00000000e+00,   1.61348727e-74]])"
      ]
     },
     "execution_count": 45,
     "metadata": {},
     "output_type": "execute_result"
    }
   ],
   "source": [
    "D ** 100"
   ]
  },
  {
   "cell_type": "markdown",
   "metadata": {
    "slideshow": {
     "slide_type": "slide"
    }
   },
   "source": [
    "## طبق آنچه گفته شد، نتیجه دو عبارت زیر برابر خواهد بود"
   ]
  },
  {
   "cell_type": "code",
   "execution_count": 46,
   "metadata": {},
   "outputs": [
    {
     "data": {
      "text/plain": [
       "matrix([[ 0.34513274,  0.16814159,  0.48672566],\n",
       "        [ 0.34513274,  0.16814159,  0.48672566],\n",
       "        [ 0.34513274,  0.16814159,  0.48672566]])"
      ]
     },
     "execution_count": 46,
     "metadata": {},
     "output_type": "execute_result"
    }
   ],
   "source": [
    "V * (D ** 100) * (V ** -1)"
   ]
  },
  {
   "cell_type": "code",
   "execution_count": 47,
   "metadata": {},
   "outputs": [
    {
     "data": {
      "text/plain": [
       "matrix([[ 0.34513274,  0.16814159,  0.48672566],\n",
       "        [ 0.34513274,  0.16814159,  0.48672566],\n",
       "        [ 0.34513274,  0.16814159,  0.48672566]])"
      ]
     },
     "execution_count": 47,
     "metadata": {},
     "output_type": "execute_result"
    }
   ],
   "source": [
    "M ** 100"
   ]
  },
  {
   "cell_type": "markdown",
   "metadata": {
    "slideshow": {
     "slide_type": "-"
    }
   },
   "source": [
    "### هزینهٔ پردازشی عبارت اول به مرتب کمتر است\n",
    "### خاصیت دیگر: ضرب هر برداری در ماتریس نهایی نتیجهٔ یکسان (حالت تعادل) می‌دهد\n",
    "### Av=λv"
   ]
  },
  {
   "cell_type": "code",
   "execution_count": 52,
   "metadata": {},
   "outputs": [
    {
     "data": {
      "text/plain": [
       "matrix([[ 0.34513274,  0.16814159,  0.48672566]])"
      ]
     },
     "execution_count": 52,
     "metadata": {},
     "output_type": "execute_result"
    }
   ],
   "source": [
    "[0.1, 0.7, 0.2] * (M ** 100)"
   ]
  },
  {
   "cell_type": "markdown",
   "metadata": {
    "slideshow": {
     "slide_type": "slide"
    }
   },
   "source": [
    "## کاربرد؟\n",
    "* eigenvalue centrality\n",
    "* pagerank (work differently, should be interpreted on random walk)"
   ]
  }
 ],
 "metadata": {
  "celltoolbar": "Slideshow",
  "kernelspec": {
   "display_name": "Python 3",
   "language": "python",
   "name": "python3"
  },
  "language_info": {
   "codemirror_mode": {
    "name": "ipython",
    "version": 3
   },
   "file_extension": ".py",
   "mimetype": "text/x-python",
   "name": "python",
   "nbconvert_exporter": "python",
   "pygments_lexer": "ipython3",
   "version": "3.6.3"
  }
 },
 "nbformat": 4,
 "nbformat_minor": 2
}
